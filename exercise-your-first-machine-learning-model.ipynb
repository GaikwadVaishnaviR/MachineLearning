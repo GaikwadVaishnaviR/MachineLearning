{
 "cells": [
  {
   "cell_type": "markdown",
   "id": "b5cb6988",
   "metadata": {
    "papermill": {
     "duration": 0.015295,
     "end_time": "2022-01-20T10:50:18.916580",
     "exception": false,
     "start_time": "2022-01-20T10:50:18.901285",
     "status": "completed"
    },
    "tags": []
   },
   "source": [
    "**This notebook is an exercise in the [Introduction to Machine Learning](https://www.kaggle.com/learn/intro-to-machine-learning) course.  You can reference the tutorial at [this link](https://www.kaggle.com/dansbecker/your-first-machine-learning-model).**\n",
    "\n",
    "---\n"
   ]
  },
  {
   "cell_type": "markdown",
   "id": "ff4f1271",
   "metadata": {
    "papermill": {
     "duration": 0.013427,
     "end_time": "2022-01-20T10:50:18.942980",
     "exception": false,
     "start_time": "2022-01-20T10:50:18.929553",
     "status": "completed"
    },
    "tags": []
   },
   "source": [
    "## Recap\n",
    "So far, you have loaded your data and reviewed it with the following code. Run this cell to set up your coding environment where the previous step left off."
   ]
  },
  {
   "cell_type": "code",
   "execution_count": 1,
   "id": "1a521423",
   "metadata": {
    "execution": {
     "iopub.execute_input": "2022-01-20T10:50:18.979700Z",
     "iopub.status.busy": "2022-01-20T10:50:18.978538Z",
     "iopub.status.idle": "2022-01-20T10:50:20.720372Z",
     "shell.execute_reply": "2022-01-20T10:50:20.719396Z",
     "shell.execute_reply.started": "2022-01-20T10:22:48.807217Z"
    },
    "papermill": {
     "duration": 1.764503,
     "end_time": "2022-01-20T10:50:20.721174",
     "exception": false,
     "start_time": "2022-01-20T10:50:18.956671",
     "status": "completed"
    },
    "tags": []
   },
   "outputs": [
    {
     "name": "stdout",
     "output_type": "stream",
     "text": [
      "Setup Complete\n"
     ]
    }
   ],
   "source": [
    "# Code you have previously used to load data\n",
    "import pandas as pd\n",
    "\n",
    "# Path of the file to read\n",
    "iowa_file_path = '../input/home-data-for-ml-course/train.csv'\n",
    "\n",
    "home_data = pd.read_csv(iowa_file_path)\n",
    "\n",
    "# Set up code checking\n",
    "from learntools.core import binder\n",
    "binder.bind(globals())\n",
    "from learntools.machine_learning.ex3 import *\n",
    "\n",
    "print(\"Setup Complete\")"
   ]
  },
  {
   "cell_type": "markdown",
   "id": "fd949946",
   "metadata": {
    "papermill": {
     "duration": 0.014034,
     "end_time": "2022-01-20T10:50:20.749845",
     "exception": false,
     "start_time": "2022-01-20T10:50:20.735811",
     "status": "completed"
    },
    "tags": []
   },
   "source": [
    "# Exercises\n",
    "\n",
    "## Step 1: Specify Prediction Target\n",
    "Select the target variable, which corresponds to the sales price. Save this to a new variable called `y`. You'll need to print a list of the columns to find the name of the column you need.\n"
   ]
  },
  {
   "cell_type": "code",
   "execution_count": 2,
   "id": "fc5347e3",
   "metadata": {
    "execution": {
     "iopub.execute_input": "2022-01-20T10:50:20.780916Z",
     "iopub.status.busy": "2022-01-20T10:50:20.779826Z",
     "iopub.status.idle": "2022-01-20T10:50:20.788279Z",
     "shell.execute_reply": "2022-01-20T10:50:20.788872Z",
     "shell.execute_reply.started": "2022-01-20T10:23:29.623065Z"
    },
    "papermill": {
     "duration": 0.026141,
     "end_time": "2022-01-20T10:50:20.789088",
     "exception": false,
     "start_time": "2022-01-20T10:50:20.762947",
     "status": "completed"
    },
    "tags": []
   },
   "outputs": [
    {
     "data": {
      "text/plain": [
       "Index(['Id', 'MSSubClass', 'MSZoning', 'LotFrontage', 'LotArea', 'Street',\n",
       "       'Alley', 'LotShape', 'LandContour', 'Utilities', 'LotConfig',\n",
       "       'LandSlope', 'Neighborhood', 'Condition1', 'Condition2', 'BldgType',\n",
       "       'HouseStyle', 'OverallQual', 'OverallCond', 'YearBuilt', 'YearRemodAdd',\n",
       "       'RoofStyle', 'RoofMatl', 'Exterior1st', 'Exterior2nd', 'MasVnrType',\n",
       "       'MasVnrArea', 'ExterQual', 'ExterCond', 'Foundation', 'BsmtQual',\n",
       "       'BsmtCond', 'BsmtExposure', 'BsmtFinType1', 'BsmtFinSF1',\n",
       "       'BsmtFinType2', 'BsmtFinSF2', 'BsmtUnfSF', 'TotalBsmtSF', 'Heating',\n",
       "       'HeatingQC', 'CentralAir', 'Electrical', '1stFlrSF', '2ndFlrSF',\n",
       "       'LowQualFinSF', 'GrLivArea', 'BsmtFullBath', 'BsmtHalfBath', 'FullBath',\n",
       "       'HalfBath', 'BedroomAbvGr', 'KitchenAbvGr', 'KitchenQual',\n",
       "       'TotRmsAbvGrd', 'Functional', 'Fireplaces', 'FireplaceQu', 'GarageType',\n",
       "       'GarageYrBlt', 'GarageFinish', 'GarageCars', 'GarageArea', 'GarageQual',\n",
       "       'GarageCond', 'PavedDrive', 'WoodDeckSF', 'OpenPorchSF',\n",
       "       'EnclosedPorch', '3SsnPorch', 'ScreenPorch', 'PoolArea', 'PoolQC',\n",
       "       'Fence', 'MiscFeature', 'MiscVal', 'MoSold', 'YrSold', 'SaleType',\n",
       "       'SaleCondition', 'SalePrice'],\n",
       "      dtype='object')"
      ]
     },
     "execution_count": 2,
     "metadata": {},
     "output_type": "execute_result"
    }
   ],
   "source": [
    "# print the list of columns in the dataset to find the name of the prediction target\n",
    "home_data.columns"
   ]
  },
  {
   "cell_type": "code",
   "execution_count": 3,
   "id": "fc11058d",
   "metadata": {
    "execution": {
     "iopub.execute_input": "2022-01-20T10:50:20.819990Z",
     "iopub.status.busy": "2022-01-20T10:50:20.819118Z",
     "iopub.status.idle": "2022-01-20T10:50:20.834789Z",
     "shell.execute_reply": "2022-01-20T10:50:20.835319Z",
     "shell.execute_reply.started": "2022-01-20T10:25:19.582604Z"
    },
    "papermill": {
     "duration": 0.033673,
     "end_time": "2022-01-20T10:50:20.835515",
     "exception": false,
     "start_time": "2022-01-20T10:50:20.801842",
     "status": "completed"
    },
    "tags": []
   },
   "outputs": [
    {
     "data": {
      "application/javascript": [
       "parent.postMessage({\"jupyterEvent\": \"custom.exercise_interaction\", \"data\": {\"outcomeType\": 1, \"valueTowardsCompletion\": 0.25, \"interactionType\": 1, \"questionType\": 2, \"questionId\": \"1_SetTarget\", \"learnToolsVersion\": \"0.3.4\", \"failureMessage\": \"\", \"exceptionClass\": \"\", \"trace\": \"\"}}, \"*\")"
      ],
      "text/plain": [
       "<IPython.core.display.Javascript object>"
      ]
     },
     "metadata": {},
     "output_type": "display_data"
    },
    {
     "data": {
      "text/markdown": [
       "<span style=\"color:#33cc33\">Correct</span>"
      ],
      "text/plain": [
       "Correct"
      ]
     },
     "metadata": {},
     "output_type": "display_data"
    }
   ],
   "source": [
    "y = home_data.SalePrice\n",
    "\n",
    "# Check your answer\n",
    "step_1.check()"
   ]
  },
  {
   "cell_type": "code",
   "execution_count": 4,
   "id": "ea340a8e",
   "metadata": {
    "collapsed": true,
    "execution": {
     "iopub.execute_input": "2022-01-20T10:50:20.868138Z",
     "iopub.status.busy": "2022-01-20T10:50:20.866860Z",
     "iopub.status.idle": "2022-01-20T10:50:20.870995Z",
     "shell.execute_reply": "2022-01-20T10:50:20.871405Z"
    },
    "jupyter": {
     "outputs_hidden": true
    },
    "papermill": {
     "duration": 0.022315,
     "end_time": "2022-01-20T10:50:20.871630",
     "exception": false,
     "start_time": "2022-01-20T10:50:20.849315",
     "status": "completed"
    },
    "tags": []
   },
   "outputs": [],
   "source": [
    "# The lines below will show you a hint or the solution.\n",
    "# step_1.hint() \n",
    "# step_1.solution()"
   ]
  },
  {
   "cell_type": "markdown",
   "id": "dbe0c9f6",
   "metadata": {
    "papermill": {
     "duration": 0.014158,
     "end_time": "2022-01-20T10:50:20.899221",
     "exception": false,
     "start_time": "2022-01-20T10:50:20.885063",
     "status": "completed"
    },
    "tags": []
   },
   "source": [
    "## Step 2: Create X\n",
    "Now you will create a DataFrame called `X` holding the predictive features.\n",
    "\n",
    "Since you want only some columns from the original data, you'll first create a list with the names of the columns you want in `X`.\n",
    "\n",
    "You'll use just the following columns in the list (you can copy and paste the whole list to save some typing, though you'll still need to add quotes):\n",
    "    * LotArea\n",
    "    * YearBuilt\n",
    "    * 1stFlrSF\n",
    "    * 2ndFlrSF\n",
    "    * FullBath\n",
    "    * BedroomAbvGr\n",
    "    * TotRmsAbvGrd\n",
    "\n",
    "After you've created that list of features, use it to create the DataFrame that you'll use to fit the model."
   ]
  },
  {
   "cell_type": "code",
   "execution_count": 5,
   "id": "e5fa6a1a",
   "metadata": {
    "execution": {
     "iopub.execute_input": "2022-01-20T10:50:20.935008Z",
     "iopub.status.busy": "2022-01-20T10:50:20.934083Z",
     "iopub.status.idle": "2022-01-20T10:50:20.948984Z",
     "shell.execute_reply": "2022-01-20T10:50:20.949477Z",
     "shell.execute_reply.started": "2022-01-20T10:30:26.074877Z"
    },
    "papermill": {
     "duration": 0.033859,
     "end_time": "2022-01-20T10:50:20.949667",
     "exception": false,
     "start_time": "2022-01-20T10:50:20.915808",
     "status": "completed"
    },
    "tags": []
   },
   "outputs": [
    {
     "data": {
      "application/javascript": [
       "parent.postMessage({\"jupyterEvent\": \"custom.exercise_interaction\", \"data\": {\"outcomeType\": 1, \"valueTowardsCompletion\": 0.25, \"interactionType\": 1, \"questionType\": 2, \"questionId\": \"2_SelectPredictionData\", \"learnToolsVersion\": \"0.3.4\", \"failureMessage\": \"\", \"exceptionClass\": \"\", \"trace\": \"\"}}, \"*\")"
      ],
      "text/plain": [
       "<IPython.core.display.Javascript object>"
      ]
     },
     "metadata": {},
     "output_type": "display_data"
    },
    {
     "data": {
      "text/markdown": [
       "<span style=\"color:#33cc33\">Correct</span>"
      ],
      "text/plain": [
       "Correct"
      ]
     },
     "metadata": {},
     "output_type": "display_data"
    }
   ],
   "source": [
    "# Create the list of features below\n",
    "feature_names = ['LotArea','YearBuilt','1stFlrSF','2ndFlrSF','FullBath','BedroomAbvGr','TotRmsAbvGrd']\n",
    "\n",
    "# Select data corresponding to features in feature_names\n",
    "X = home_data[feature_names]\n",
    "\n",
    "# Check your answer\n",
    "step_2.check()"
   ]
  },
  {
   "cell_type": "code",
   "execution_count": 6,
   "id": "e2d62155",
   "metadata": {
    "collapsed": true,
    "execution": {
     "iopub.execute_input": "2022-01-20T10:50:20.985213Z",
     "iopub.status.busy": "2022-01-20T10:50:20.984543Z",
     "iopub.status.idle": "2022-01-20T10:50:20.985885Z",
     "shell.execute_reply": "2022-01-20T10:50:20.986355Z"
    },
    "jupyter": {
     "outputs_hidden": true
    },
    "papermill": {
     "duration": 0.022341,
     "end_time": "2022-01-20T10:50:20.986547",
     "exception": false,
     "start_time": "2022-01-20T10:50:20.964206",
     "status": "completed"
    },
    "tags": []
   },
   "outputs": [],
   "source": [
    "# step_2.hint()\n",
    "# step_2.solution()"
   ]
  },
  {
   "cell_type": "markdown",
   "id": "354e3f32",
   "metadata": {
    "papermill": {
     "duration": 0.018845,
     "end_time": "2022-01-20T10:50:21.021337",
     "exception": false,
     "start_time": "2022-01-20T10:50:21.002492",
     "status": "completed"
    },
    "tags": []
   },
   "source": [
    "## Review Data\n",
    "Before building a model, take a quick look at **X** to verify it looks sensible"
   ]
  },
  {
   "cell_type": "code",
   "execution_count": 7,
   "id": "e1833d63",
   "metadata": {
    "collapsed": true,
    "execution": {
     "iopub.execute_input": "2022-01-20T10:50:21.060469Z",
     "iopub.status.busy": "2022-01-20T10:50:21.059675Z",
     "iopub.status.idle": "2022-01-20T10:50:21.062843Z",
     "shell.execute_reply": "2022-01-20T10:50:21.063300Z"
    },
    "jupyter": {
     "outputs_hidden": true
    },
    "papermill": {
     "duration": 0.024571,
     "end_time": "2022-01-20T10:50:21.063512",
     "exception": false,
     "start_time": "2022-01-20T10:50:21.038941",
     "status": "completed"
    },
    "tags": []
   },
   "outputs": [],
   "source": [
    "# Review data\n",
    "# print description or statistics from X\n",
    "#print(_)\n",
    "\n",
    "# print the top few lines\n",
    "#print(_)"
   ]
  },
  {
   "cell_type": "markdown",
   "id": "698564a3",
   "metadata": {
    "papermill": {
     "duration": 0.016368,
     "end_time": "2022-01-20T10:50:21.096659",
     "exception": false,
     "start_time": "2022-01-20T10:50:21.080291",
     "status": "completed"
    },
    "tags": []
   },
   "source": [
    "## Step 3: Specify and Fit Model\n",
    "Create a `DecisionTreeRegressor` and save it iowa_model. Ensure you've done the relevant import from sklearn to run this command.\n",
    "\n",
    "Then fit the model you just created using the data in `X` and `y` that you saved above."
   ]
  },
  {
   "cell_type": "code",
   "execution_count": 8,
   "id": "476e9f87",
   "metadata": {
    "execution": {
     "iopub.execute_input": "2022-01-20T10:50:21.134065Z",
     "iopub.status.busy": "2022-01-20T10:50:21.133356Z",
     "iopub.status.idle": "2022-01-20T10:50:21.156691Z",
     "shell.execute_reply": "2022-01-20T10:50:21.156010Z",
     "shell.execute_reply.started": "2022-01-20T10:49:05.040445Z"
    },
    "papermill": {
     "duration": 0.042901,
     "end_time": "2022-01-20T10:50:21.156878",
     "exception": false,
     "start_time": "2022-01-20T10:50:21.113977",
     "status": "completed"
    },
    "tags": []
   },
   "outputs": [
    {
     "data": {
      "application/javascript": [
       "parent.postMessage({\"jupyterEvent\": \"custom.exercise_interaction\", \"data\": {\"outcomeType\": 1, \"valueTowardsCompletion\": 0.25, \"interactionType\": 1, \"questionType\": 2, \"questionId\": \"3_CreateModel\", \"learnToolsVersion\": \"0.3.4\", \"failureMessage\": \"\", \"exceptionClass\": \"\", \"trace\": \"\"}}, \"*\")"
      ],
      "text/plain": [
       "<IPython.core.display.Javascript object>"
      ]
     },
     "metadata": {},
     "output_type": "display_data"
    },
    {
     "data": {
      "text/markdown": [
       "<span style=\"color:#33cc33\">Correct</span>"
      ],
      "text/plain": [
       "Correct"
      ]
     },
     "metadata": {},
     "output_type": "display_data"
    }
   ],
   "source": [
    "# from _ import _\n",
    "#specify the model. \n",
    "#For model reproducibility, set a numeric value for random_state when specifying the model\n",
    "from sklearn.tree import DecisionTreeRegressor\n",
    "\n",
    "iowa_model = DecisionTreeRegressor(random_state=1)\n",
    "\n",
    "\n",
    "# Fit the model\n",
    "iowa_model.fit(X, y)\n",
    "\n",
    "# Check your answer\n",
    "step_3.check()"
   ]
  },
  {
   "cell_type": "code",
   "execution_count": 9,
   "id": "c971c939",
   "metadata": {
    "collapsed": true,
    "execution": {
     "iopub.execute_input": "2022-01-20T10:50:21.198221Z",
     "iopub.status.busy": "2022-01-20T10:50:21.197064Z",
     "iopub.status.idle": "2022-01-20T10:50:21.201187Z",
     "shell.execute_reply": "2022-01-20T10:50:21.200532Z"
    },
    "jupyter": {
     "outputs_hidden": true
    },
    "papermill": {
     "duration": 0.026461,
     "end_time": "2022-01-20T10:50:21.201349",
     "exception": false,
     "start_time": "2022-01-20T10:50:21.174888",
     "status": "completed"
    },
    "tags": []
   },
   "outputs": [],
   "source": [
    "# step_3.hint()\n",
    "# step_3.solution()"
   ]
  },
  {
   "cell_type": "markdown",
   "id": "33ffac0a",
   "metadata": {
    "papermill": {
     "duration": 0.017826,
     "end_time": "2022-01-20T10:50:21.235645",
     "exception": false,
     "start_time": "2022-01-20T10:50:21.217819",
     "status": "completed"
    },
    "tags": []
   },
   "source": [
    "## Step 4: Make Predictions\n",
    "Make predictions with the model's `predict` command using `X` as the data. Save the results to a variable called `predictions`."
   ]
  },
  {
   "cell_type": "code",
   "execution_count": 10,
   "id": "db66a5b4",
   "metadata": {
    "execution": {
     "iopub.execute_input": "2022-01-20T10:50:21.284787Z",
     "iopub.status.busy": "2022-01-20T10:50:21.280693Z",
     "iopub.status.idle": "2022-01-20T10:50:21.296157Z",
     "shell.execute_reply": "2022-01-20T10:50:21.295561Z",
     "shell.execute_reply.started": "2022-01-20T10:49:44.178610Z"
    },
    "papermill": {
     "duration": 0.041486,
     "end_time": "2022-01-20T10:50:21.296311",
     "exception": false,
     "start_time": "2022-01-20T10:50:21.254825",
     "status": "completed"
    },
    "tags": []
   },
   "outputs": [
    {
     "name": "stdout",
     "output_type": "stream",
     "text": [
      "[208500. 181500. 223500. ... 266500. 142125. 147500.]\n"
     ]
    },
    {
     "data": {
      "application/javascript": [
       "parent.postMessage({\"jupyterEvent\": \"custom.exercise_interaction\", \"data\": {\"outcomeType\": 1, \"valueTowardsCompletion\": 0.25, \"interactionType\": 1, \"questionType\": 2, \"questionId\": \"4_MakePredictions\", \"learnToolsVersion\": \"0.3.4\", \"failureMessage\": \"\", \"exceptionClass\": \"\", \"trace\": \"\"}}, \"*\")"
      ],
      "text/plain": [
       "<IPython.core.display.Javascript object>"
      ]
     },
     "metadata": {},
     "output_type": "display_data"
    },
    {
     "data": {
      "text/markdown": [
       "<span style=\"color:#33cc33\">Correct</span>"
      ],
      "text/plain": [
       "Correct"
      ]
     },
     "metadata": {},
     "output_type": "display_data"
    }
   ],
   "source": [
    "predictions = iowa_model.predict(X)\n",
    "print(predictions)\n",
    "\n",
    "# Check your answer\n",
    "step_4.check()"
   ]
  },
  {
   "cell_type": "code",
   "execution_count": 11,
   "id": "9d701c3f",
   "metadata": {
    "collapsed": true,
    "execution": {
     "iopub.execute_input": "2022-01-20T10:50:21.337465Z",
     "iopub.status.busy": "2022-01-20T10:50:21.336834Z",
     "iopub.status.idle": "2022-01-20T10:50:21.339497Z",
     "shell.execute_reply": "2022-01-20T10:50:21.338895Z"
    },
    "jupyter": {
     "outputs_hidden": true
    },
    "papermill": {
     "duration": 0.024958,
     "end_time": "2022-01-20T10:50:21.339644",
     "exception": false,
     "start_time": "2022-01-20T10:50:21.314686",
     "status": "completed"
    },
    "tags": []
   },
   "outputs": [],
   "source": [
    "# step_4.hint()\n",
    "# step_4.solution()"
   ]
  },
  {
   "cell_type": "markdown",
   "id": "cd8c54a8",
   "metadata": {
    "papermill": {
     "duration": 0.016368,
     "end_time": "2022-01-20T10:50:21.373616",
     "exception": false,
     "start_time": "2022-01-20T10:50:21.357248",
     "status": "completed"
    },
    "tags": []
   },
   "source": [
    "## Think About Your Results\n",
    "\n",
    "Use the `head` method to compare the top few predictions to the actual home values (in `y`) for those same homes. Anything surprising?\n"
   ]
  },
  {
   "cell_type": "code",
   "execution_count": 12,
   "id": "d097621e",
   "metadata": {
    "execution": {
     "iopub.execute_input": "2022-01-20T10:50:21.415934Z",
     "iopub.status.busy": "2022-01-20T10:50:21.415211Z",
     "iopub.status.idle": "2022-01-20T10:50:21.418594Z",
     "shell.execute_reply": "2022-01-20T10:50:21.418000Z"
    },
    "papermill": {
     "duration": 0.026497,
     "end_time": "2022-01-20T10:50:21.418757",
     "exception": false,
     "start_time": "2022-01-20T10:50:21.392260",
     "status": "completed"
    },
    "tags": []
   },
   "outputs": [],
   "source": [
    "# You can write code in this cell\n"
   ]
  },
  {
   "cell_type": "markdown",
   "id": "44c7df24",
   "metadata": {
    "papermill": {
     "duration": 0.017613,
     "end_time": "2022-01-20T10:50:21.453591",
     "exception": false,
     "start_time": "2022-01-20T10:50:21.435978",
     "status": "completed"
    },
    "tags": []
   },
   "source": [
    "It's natural to ask how accurate the model's predictions will be and how you can improve that. That will be you're next step.\n",
    "\n",
    "# Keep Going\n",
    "\n",
    "You are ready for **[Model Validation](https://www.kaggle.com/dansbecker/model-validation).**\n"
   ]
  },
  {
   "cell_type": "markdown",
   "id": "71046320",
   "metadata": {
    "papermill": {
     "duration": 0.019079,
     "end_time": "2022-01-20T10:50:21.490465",
     "exception": false,
     "start_time": "2022-01-20T10:50:21.471386",
     "status": "completed"
    },
    "tags": []
   },
   "source": [
    "---\n",
    "\n",
    "\n",
    "\n",
    "\n",
    "*Have questions or comments? Visit the [course discussion forum](https://www.kaggle.com/learn/intro-to-machine-learning/discussion) to chat with other learners.*"
   ]
  }
 ],
 "metadata": {
  "kernelspec": {
   "display_name": "Python 3",
   "language": "python",
   "name": "python3"
  },
  "language_info": {
   "codemirror_mode": {
    "name": "ipython",
    "version": 3
   },
   "file_extension": ".py",
   "mimetype": "text/x-python",
   "name": "python",
   "nbconvert_exporter": "python",
   "pygments_lexer": "ipython3",
   "version": "3.7.12"
  },
  "papermill": {
   "default_parameters": {},
   "duration": 14.375689,
   "end_time": "2022-01-20T10:50:22.420632",
   "environment_variables": {},
   "exception": null,
   "input_path": "__notebook__.ipynb",
   "output_path": "__notebook__.ipynb",
   "parameters": {},
   "start_time": "2022-01-20T10:50:08.044943",
   "version": "2.3.3"
  }
 },
 "nbformat": 4,
 "nbformat_minor": 5
}
