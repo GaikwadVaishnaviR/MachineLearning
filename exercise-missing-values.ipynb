{
 "cells": [
  {
   "cell_type": "markdown",
   "id": "041255a1",
   "metadata": {
    "papermill": {
     "duration": 0.030646,
     "end_time": "2022-01-29T09:22:51.293845",
     "exception": false,
     "start_time": "2022-01-29T09:22:51.263199",
     "status": "completed"
    },
    "tags": []
   },
   "source": [
    "**This notebook is an exercise in the [Intermediate Machine Learning](https://www.kaggle.com/learn/intermediate-machine-learning) course.  You can reference the tutorial at [this link](https://www.kaggle.com/alexisbcook/missing-values).**\n",
    "\n",
    "---\n"
   ]
  },
  {
   "cell_type": "markdown",
   "id": "fc5e2c08",
   "metadata": {
    "papermill": {
     "duration": 0.026848,
     "end_time": "2022-01-29T09:22:51.350628",
     "exception": false,
     "start_time": "2022-01-29T09:22:51.323780",
     "status": "completed"
    },
    "tags": []
   },
   "source": [
    "Now it's your turn to test your new knowledge of **missing values** handling. You'll probably find it makes a big difference.\n",
    "\n",
    "# Setup\n",
    "\n",
    "The questions will give you feedback on your work. Run the following cell to set up the feedback system."
   ]
  },
  {
   "cell_type": "code",
   "execution_count": 1,
   "id": "f1e4f4be",
   "metadata": {
    "execution": {
     "iopub.execute_input": "2022-01-29T09:22:51.416062Z",
     "iopub.status.busy": "2022-01-29T09:22:51.415437Z",
     "iopub.status.idle": "2022-01-29T09:22:51.453991Z",
     "shell.execute_reply": "2022-01-29T09:22:51.453248Z",
     "shell.execute_reply.started": "2022-01-29T08:27:21.424479Z"
    },
    "papermill": {
     "duration": 0.076318,
     "end_time": "2022-01-29T09:22:51.454153",
     "exception": false,
     "start_time": "2022-01-29T09:22:51.377835",
     "status": "completed"
    },
    "tags": []
   },
   "outputs": [
    {
     "name": "stdout",
     "output_type": "stream",
     "text": [
      "Setup Complete\n"
     ]
    }
   ],
   "source": [
    "# Set up code checking\n",
    "import os\n",
    "if not os.path.exists(\"../input/train.csv\"):\n",
    "    os.symlink(\"../input/home-data-for-ml-course/train.csv\", \"../input/train.csv\")  \n",
    "    os.symlink(\"../input/home-data-for-ml-course/test.csv\", \"../input/test.csv\") \n",
    "from learntools.core import binder\n",
    "binder.bind(globals())\n",
    "from learntools.ml_intermediate.ex2 import *\n",
    "print(\"Setup Complete\")"
   ]
  },
  {
   "cell_type": "markdown",
   "id": "3f8ec1a0",
   "metadata": {
    "papermill": {
     "duration": 0.027381,
     "end_time": "2022-01-29T09:22:51.509627",
     "exception": false,
     "start_time": "2022-01-29T09:22:51.482246",
     "status": "completed"
    },
    "tags": []
   },
   "source": [
    "In this exercise, you will work with data from the [Housing Prices Competition for Kaggle Learn Users](https://www.kaggle.com/c/home-data-for-ml-course). \n",
    "\n",
    "![Ames Housing dataset image](https://i.imgur.com/lTJVG4e.png)\n",
    "\n",
    "Run the next code cell without changes to load the training and validation sets in `X_train`, `X_valid`, `y_train`, and `y_valid`.  The test set is loaded in `X_test`."
   ]
  },
  {
   "cell_type": "code",
   "execution_count": 2,
   "id": "0b37077c",
   "metadata": {
    "execution": {
     "iopub.execute_input": "2022-01-29T09:22:51.567420Z",
     "iopub.status.busy": "2022-01-29T09:22:51.566781Z",
     "iopub.status.idle": "2022-01-29T09:22:52.695377Z",
     "shell.execute_reply": "2022-01-29T09:22:52.694710Z",
     "shell.execute_reply.started": "2022-01-29T08:28:25.322944Z"
    },
    "papermill": {
     "duration": 1.158379,
     "end_time": "2022-01-29T09:22:52.695513",
     "exception": false,
     "start_time": "2022-01-29T09:22:51.537134",
     "status": "completed"
    },
    "tags": []
   },
   "outputs": [],
   "source": [
    "import pandas as pd\n",
    "from sklearn.model_selection import train_test_split\n",
    "\n",
    "# Read the data\n",
    "X_full = pd.read_csv('../input/train.csv', index_col='Id')\n",
    "X_test_full = pd.read_csv('../input/test.csv', index_col='Id')\n",
    "\n",
    "# Remove rows with missing target, separate target from predictors\n",
    "X_full.dropna(axis=0, subset=['SalePrice'], inplace=True)\n",
    "y = X_full.SalePrice\n",
    "X_full.drop(['SalePrice'], axis=1, inplace=True)\n",
    "\n",
    "# To keep things simple, we'll use only numerical predictors\n",
    "X = X_full.select_dtypes(exclude=['object'])\n",
    "X_test = X_test_full.select_dtypes(exclude=['object'])\n",
    "\n",
    "# Break off validation set from training data\n",
    "X_train, X_valid, y_train, y_valid = train_test_split(X, y, train_size=0.8, test_size=0.2,\n",
    "                                                      random_state=0)"
   ]
  },
  {
   "cell_type": "markdown",
   "id": "a0c6b56b",
   "metadata": {
    "papermill": {
     "duration": 0.027026,
     "end_time": "2022-01-29T09:22:52.749753",
     "exception": false,
     "start_time": "2022-01-29T09:22:52.722727",
     "status": "completed"
    },
    "tags": []
   },
   "source": [
    "Use the next code cell to print the first five rows of the data."
   ]
  },
  {
   "cell_type": "code",
   "execution_count": 3,
   "id": "43bfb6ce",
   "metadata": {
    "execution": {
     "iopub.execute_input": "2022-01-29T09:22:52.812206Z",
     "iopub.status.busy": "2022-01-29T09:22:52.811584Z",
     "iopub.status.idle": "2022-01-29T09:22:52.833686Z",
     "shell.execute_reply": "2022-01-29T09:22:52.834172Z",
     "shell.execute_reply.started": "2022-01-29T08:28:32.565343Z"
    },
    "papermill": {
     "duration": 0.057034,
     "end_time": "2022-01-29T09:22:52.834360",
     "exception": false,
     "start_time": "2022-01-29T09:22:52.777326",
     "status": "completed"
    },
    "tags": []
   },
   "outputs": [
    {
     "data": {
      "text/html": [
       "<div>\n",
       "<style scoped>\n",
       "    .dataframe tbody tr th:only-of-type {\n",
       "        vertical-align: middle;\n",
       "    }\n",
       "\n",
       "    .dataframe tbody tr th {\n",
       "        vertical-align: top;\n",
       "    }\n",
       "\n",
       "    .dataframe thead th {\n",
       "        text-align: right;\n",
       "    }\n",
       "</style>\n",
       "<table border=\"1\" class=\"dataframe\">\n",
       "  <thead>\n",
       "    <tr style=\"text-align: right;\">\n",
       "      <th></th>\n",
       "      <th>MSSubClass</th>\n",
       "      <th>LotFrontage</th>\n",
       "      <th>LotArea</th>\n",
       "      <th>OverallQual</th>\n",
       "      <th>OverallCond</th>\n",
       "      <th>YearBuilt</th>\n",
       "      <th>YearRemodAdd</th>\n",
       "      <th>MasVnrArea</th>\n",
       "      <th>BsmtFinSF1</th>\n",
       "      <th>BsmtFinSF2</th>\n",
       "      <th>...</th>\n",
       "      <th>GarageArea</th>\n",
       "      <th>WoodDeckSF</th>\n",
       "      <th>OpenPorchSF</th>\n",
       "      <th>EnclosedPorch</th>\n",
       "      <th>3SsnPorch</th>\n",
       "      <th>ScreenPorch</th>\n",
       "      <th>PoolArea</th>\n",
       "      <th>MiscVal</th>\n",
       "      <th>MoSold</th>\n",
       "      <th>YrSold</th>\n",
       "    </tr>\n",
       "    <tr>\n",
       "      <th>Id</th>\n",
       "      <th></th>\n",
       "      <th></th>\n",
       "      <th></th>\n",
       "      <th></th>\n",
       "      <th></th>\n",
       "      <th></th>\n",
       "      <th></th>\n",
       "      <th></th>\n",
       "      <th></th>\n",
       "      <th></th>\n",
       "      <th></th>\n",
       "      <th></th>\n",
       "      <th></th>\n",
       "      <th></th>\n",
       "      <th></th>\n",
       "      <th></th>\n",
       "      <th></th>\n",
       "      <th></th>\n",
       "      <th></th>\n",
       "      <th></th>\n",
       "      <th></th>\n",
       "    </tr>\n",
       "  </thead>\n",
       "  <tbody>\n",
       "    <tr>\n",
       "      <th>619</th>\n",
       "      <td>20</td>\n",
       "      <td>90.0</td>\n",
       "      <td>11694</td>\n",
       "      <td>9</td>\n",
       "      <td>5</td>\n",
       "      <td>2007</td>\n",
       "      <td>2007</td>\n",
       "      <td>452.0</td>\n",
       "      <td>48</td>\n",
       "      <td>0</td>\n",
       "      <td>...</td>\n",
       "      <td>774</td>\n",
       "      <td>0</td>\n",
       "      <td>108</td>\n",
       "      <td>0</td>\n",
       "      <td>0</td>\n",
       "      <td>260</td>\n",
       "      <td>0</td>\n",
       "      <td>0</td>\n",
       "      <td>7</td>\n",
       "      <td>2007</td>\n",
       "    </tr>\n",
       "    <tr>\n",
       "      <th>871</th>\n",
       "      <td>20</td>\n",
       "      <td>60.0</td>\n",
       "      <td>6600</td>\n",
       "      <td>5</td>\n",
       "      <td>5</td>\n",
       "      <td>1962</td>\n",
       "      <td>1962</td>\n",
       "      <td>0.0</td>\n",
       "      <td>0</td>\n",
       "      <td>0</td>\n",
       "      <td>...</td>\n",
       "      <td>308</td>\n",
       "      <td>0</td>\n",
       "      <td>0</td>\n",
       "      <td>0</td>\n",
       "      <td>0</td>\n",
       "      <td>0</td>\n",
       "      <td>0</td>\n",
       "      <td>0</td>\n",
       "      <td>8</td>\n",
       "      <td>2009</td>\n",
       "    </tr>\n",
       "    <tr>\n",
       "      <th>93</th>\n",
       "      <td>30</td>\n",
       "      <td>80.0</td>\n",
       "      <td>13360</td>\n",
       "      <td>5</td>\n",
       "      <td>7</td>\n",
       "      <td>1921</td>\n",
       "      <td>2006</td>\n",
       "      <td>0.0</td>\n",
       "      <td>713</td>\n",
       "      <td>0</td>\n",
       "      <td>...</td>\n",
       "      <td>432</td>\n",
       "      <td>0</td>\n",
       "      <td>0</td>\n",
       "      <td>44</td>\n",
       "      <td>0</td>\n",
       "      <td>0</td>\n",
       "      <td>0</td>\n",
       "      <td>0</td>\n",
       "      <td>8</td>\n",
       "      <td>2009</td>\n",
       "    </tr>\n",
       "    <tr>\n",
       "      <th>818</th>\n",
       "      <td>20</td>\n",
       "      <td>NaN</td>\n",
       "      <td>13265</td>\n",
       "      <td>8</td>\n",
       "      <td>5</td>\n",
       "      <td>2002</td>\n",
       "      <td>2002</td>\n",
       "      <td>148.0</td>\n",
       "      <td>1218</td>\n",
       "      <td>0</td>\n",
       "      <td>...</td>\n",
       "      <td>857</td>\n",
       "      <td>150</td>\n",
       "      <td>59</td>\n",
       "      <td>0</td>\n",
       "      <td>0</td>\n",
       "      <td>0</td>\n",
       "      <td>0</td>\n",
       "      <td>0</td>\n",
       "      <td>7</td>\n",
       "      <td>2008</td>\n",
       "    </tr>\n",
       "    <tr>\n",
       "      <th>303</th>\n",
       "      <td>20</td>\n",
       "      <td>118.0</td>\n",
       "      <td>13704</td>\n",
       "      <td>7</td>\n",
       "      <td>5</td>\n",
       "      <td>2001</td>\n",
       "      <td>2002</td>\n",
       "      <td>150.0</td>\n",
       "      <td>0</td>\n",
       "      <td>0</td>\n",
       "      <td>...</td>\n",
       "      <td>843</td>\n",
       "      <td>468</td>\n",
       "      <td>81</td>\n",
       "      <td>0</td>\n",
       "      <td>0</td>\n",
       "      <td>0</td>\n",
       "      <td>0</td>\n",
       "      <td>0</td>\n",
       "      <td>1</td>\n",
       "      <td>2006</td>\n",
       "    </tr>\n",
       "  </tbody>\n",
       "</table>\n",
       "<p>5 rows × 36 columns</p>\n",
       "</div>"
      ],
      "text/plain": [
       "     MSSubClass  LotFrontage  LotArea  OverallQual  OverallCond  YearBuilt  \\\n",
       "Id                                                                           \n",
       "619          20         90.0    11694            9            5       2007   \n",
       "871          20         60.0     6600            5            5       1962   \n",
       "93           30         80.0    13360            5            7       1921   \n",
       "818          20          NaN    13265            8            5       2002   \n",
       "303          20        118.0    13704            7            5       2001   \n",
       "\n",
       "     YearRemodAdd  MasVnrArea  BsmtFinSF1  BsmtFinSF2  ...  GarageArea  \\\n",
       "Id                                                     ...               \n",
       "619          2007       452.0          48           0  ...         774   \n",
       "871          1962         0.0           0           0  ...         308   \n",
       "93           2006         0.0         713           0  ...         432   \n",
       "818          2002       148.0        1218           0  ...         857   \n",
       "303          2002       150.0           0           0  ...         843   \n",
       "\n",
       "     WoodDeckSF  OpenPorchSF  EnclosedPorch  3SsnPorch  ScreenPorch  PoolArea  \\\n",
       "Id                                                                              \n",
       "619           0          108              0          0          260         0   \n",
       "871           0            0              0          0            0         0   \n",
       "93            0            0             44          0            0         0   \n",
       "818         150           59              0          0            0         0   \n",
       "303         468           81              0          0            0         0   \n",
       "\n",
       "     MiscVal  MoSold  YrSold  \n",
       "Id                            \n",
       "619        0       7    2007  \n",
       "871        0       8    2009  \n",
       "93         0       8    2009  \n",
       "818        0       7    2008  \n",
       "303        0       1    2006  \n",
       "\n",
       "[5 rows x 36 columns]"
      ]
     },
     "execution_count": 3,
     "metadata": {},
     "output_type": "execute_result"
    }
   ],
   "source": [
    "X_train.head()"
   ]
  },
  {
   "cell_type": "markdown",
   "id": "4f630fd6",
   "metadata": {
    "papermill": {
     "duration": 0.02734,
     "end_time": "2022-01-29T09:22:52.889391",
     "exception": false,
     "start_time": "2022-01-29T09:22:52.862051",
     "status": "completed"
    },
    "tags": []
   },
   "source": [
    "You can already see a few missing values in the first several rows.  In the next step, you'll obtain a more comprehensive understanding of the missing values in the dataset.\n",
    "\n",
    "# Step 1: Preliminary investigation\n",
    "\n",
    "Run the code cell below without changes."
   ]
  },
  {
   "cell_type": "code",
   "execution_count": 4,
   "id": "37d0946e",
   "metadata": {
    "execution": {
     "iopub.execute_input": "2022-01-29T09:22:52.948283Z",
     "iopub.status.busy": "2022-01-29T09:22:52.947615Z",
     "iopub.status.idle": "2022-01-29T09:22:52.955073Z",
     "shell.execute_reply": "2022-01-29T09:22:52.955753Z",
     "shell.execute_reply.started": "2022-01-29T08:28:39.938632Z"
    },
    "papermill": {
     "duration": 0.038571,
     "end_time": "2022-01-29T09:22:52.955966",
     "exception": false,
     "start_time": "2022-01-29T09:22:52.917395",
     "status": "completed"
    },
    "tags": []
   },
   "outputs": [
    {
     "name": "stdout",
     "output_type": "stream",
     "text": [
      "(1168, 36)\n",
      "LotFrontage    212\n",
      "MasVnrArea       6\n",
      "GarageYrBlt     58\n",
      "dtype: int64\n"
     ]
    }
   ],
   "source": [
    "# Shape of training data (num_rows, num_columns)\n",
    "print(X_train.shape)\n",
    "\n",
    "# Number of missing values in each column of training data\n",
    "missing_val_count_by_column = (X_train.isnull().sum())\n",
    "print(missing_val_count_by_column[missing_val_count_by_column > 0])"
   ]
  },
  {
   "cell_type": "markdown",
   "id": "ce6260fa",
   "metadata": {
    "papermill": {
     "duration": 0.027292,
     "end_time": "2022-01-29T09:22:53.012374",
     "exception": false,
     "start_time": "2022-01-29T09:22:52.985082",
     "status": "completed"
    },
    "tags": []
   },
   "source": [
    "### Part A\n",
    "\n",
    "Use the above output to answer the questions below."
   ]
  },
  {
   "cell_type": "code",
   "execution_count": 5,
   "id": "edd46ff1",
   "metadata": {
    "execution": {
     "iopub.execute_input": "2022-01-29T09:22:53.073590Z",
     "iopub.status.busy": "2022-01-29T09:22:53.072520Z",
     "iopub.status.idle": "2022-01-29T09:22:53.082795Z",
     "shell.execute_reply": "2022-01-29T09:22:53.083382Z",
     "shell.execute_reply.started": "2022-01-29T08:29:58.831891Z"
    },
    "papermill": {
     "duration": 0.04253,
     "end_time": "2022-01-29T09:22:53.083580",
     "exception": false,
     "start_time": "2022-01-29T09:22:53.041050",
     "status": "completed"
    },
    "tags": []
   },
   "outputs": [
    {
     "data": {
      "application/javascript": [
       "parent.postMessage({\"jupyterEvent\": \"custom.exercise_interaction\", \"data\": {\"outcomeType\": 1, \"valueTowardsCompletion\": 1.0, \"interactionType\": 1, \"questionType\": 1, \"questionId\": \"1.1_InvestigateEquality\", \"learnToolsVersion\": \"0.3.4\", \"failureMessage\": \"\", \"exceptionClass\": \"\", \"trace\": \"\"}}, \"*\")"
      ],
      "text/plain": [
       "<IPython.core.display.Javascript object>"
      ]
     },
     "metadata": {},
     "output_type": "display_data"
    },
    {
     "data": {
      "text/markdown": [
       "<span style=\"color:#33cc33\">Correct</span>"
      ],
      "text/plain": [
       "Correct"
      ]
     },
     "metadata": {},
     "output_type": "display_data"
    }
   ],
   "source": [
    "# Fill in the line below: How many rows are in the training data?\n",
    "num_rows = 1168\n",
    "\n",
    "# Fill in the line below: How many columns in the training data\n",
    "# have missing values?\n",
    "num_cols_with_missing = 3\n",
    "\n",
    "# Fill in the line below: How many missing entries are contained in \n",
    "# all of the training data?\n",
    "tot_missing = 276\n",
    "\n",
    "# Check your answers\n",
    "step_1.a.check()"
   ]
  },
  {
   "cell_type": "code",
   "execution_count": 6,
   "id": "e76664ef",
   "metadata": {
    "execution": {
     "iopub.execute_input": "2022-01-29T09:22:53.144886Z",
     "iopub.status.busy": "2022-01-29T09:22:53.144290Z",
     "iopub.status.idle": "2022-01-29T09:22:53.147107Z",
     "shell.execute_reply": "2022-01-29T09:22:53.147717Z"
    },
    "papermill": {
     "duration": 0.035238,
     "end_time": "2022-01-29T09:22:53.147881",
     "exception": false,
     "start_time": "2022-01-29T09:22:53.112643",
     "status": "completed"
    },
    "tags": []
   },
   "outputs": [],
   "source": [
    "# Lines below will give you a hint or solution code\n",
    "#step_1.a.hint()\n",
    "#step_1.a.solution()"
   ]
  },
  {
   "cell_type": "markdown",
   "id": "f748c786",
   "metadata": {
    "papermill": {
     "duration": 0.028733,
     "end_time": "2022-01-29T09:22:53.205664",
     "exception": false,
     "start_time": "2022-01-29T09:22:53.176931",
     "status": "completed"
    },
    "tags": []
   },
   "source": [
    "### Part B\n",
    "Considering your answers above, what do you think is likely the best approach to dealing with the missing values?"
   ]
  },
  {
   "cell_type": "code",
   "execution_count": 7,
   "id": "4d8f3031",
   "metadata": {
    "execution": {
     "iopub.execute_input": "2022-01-29T09:22:53.266182Z",
     "iopub.status.busy": "2022-01-29T09:22:53.265647Z",
     "iopub.status.idle": "2022-01-29T09:22:53.270967Z",
     "shell.execute_reply": "2022-01-29T09:22:53.271589Z",
     "shell.execute_reply.started": "2022-01-29T08:30:23.956908Z"
    },
    "papermill": {
     "duration": 0.037098,
     "end_time": "2022-01-29T09:22:53.271746",
     "exception": false,
     "start_time": "2022-01-29T09:22:53.234648",
     "status": "completed"
    },
    "tags": []
   },
   "outputs": [
    {
     "data": {
      "application/javascript": [
       "parent.postMessage({\"jupyterEvent\": \"custom.exercise_interaction\", \"data\": {\"outcomeType\": 1, \"valueTowardsCompletion\": 1.0, \"interactionType\": 1, \"questionType\": 4, \"questionId\": \"1.2_InvestigateThought\", \"learnToolsVersion\": \"0.3.4\", \"failureMessage\": \"\", \"exceptionClass\": \"\", \"trace\": \"\"}}, \"*\")"
      ],
      "text/plain": [
       "<IPython.core.display.Javascript object>"
      ]
     },
     "metadata": {},
     "output_type": "display_data"
    },
    {
     "data": {
      "text/markdown": [
       "<span style=\"color:#33cc33\">Correct:</span> \n",
       "\n",
       "Since there are relatively few missing entries in the data (the column with the greatest percentage of missing values is missing less than 20% of its entries), we can expect that dropping columns is unlikely to yield good results.  This is because we'd be throwing away a lot of valuable data, and so imputation will likely perform better."
      ],
      "text/plain": [
       "Correct: \n",
       "\n",
       "Since there are relatively few missing entries in the data (the column with the greatest percentage of missing values is missing less than 20% of its entries), we can expect that dropping columns is unlikely to yield good results.  This is because we'd be throwing away a lot of valuable data, and so imputation will likely perform better."
      ]
     },
     "metadata": {},
     "output_type": "display_data"
    }
   ],
   "source": [
    "# Check your answer (Run this code cell to receive credit!)\n",
    "step_1.b.check()"
   ]
  },
  {
   "cell_type": "code",
   "execution_count": 8,
   "id": "2553a542",
   "metadata": {
    "execution": {
     "iopub.execute_input": "2022-01-29T09:22:53.336707Z",
     "iopub.status.busy": "2022-01-29T09:22:53.336039Z",
     "iopub.status.idle": "2022-01-29T09:22:53.337674Z",
     "shell.execute_reply": "2022-01-29T09:22:53.338176Z"
    },
    "papermill": {
     "duration": 0.036416,
     "end_time": "2022-01-29T09:22:53.338369",
     "exception": false,
     "start_time": "2022-01-29T09:22:53.301953",
     "status": "completed"
    },
    "tags": []
   },
   "outputs": [],
   "source": [
    "#step_1.b.hint()"
   ]
  },
  {
   "cell_type": "markdown",
   "id": "c1dce00a",
   "metadata": {
    "papermill": {
     "duration": 0.030756,
     "end_time": "2022-01-29T09:22:53.399654",
     "exception": false,
     "start_time": "2022-01-29T09:22:53.368898",
     "status": "completed"
    },
    "tags": []
   },
   "source": [
    "To compare different approaches to dealing with missing values, you'll use the same `score_dataset()` function from the tutorial.  This function reports the [mean absolute error](https://en.wikipedia.org/wiki/Mean_absolute_error) (MAE) from a random forest model."
   ]
  },
  {
   "cell_type": "code",
   "execution_count": 9,
   "id": "a0cfe7e3",
   "metadata": {
    "execution": {
     "iopub.execute_input": "2022-01-29T09:22:53.464501Z",
     "iopub.status.busy": "2022-01-29T09:22:53.463910Z",
     "iopub.status.idle": "2022-01-29T09:22:53.638663Z",
     "shell.execute_reply": "2022-01-29T09:22:53.638092Z",
     "shell.execute_reply.started": "2022-01-29T08:30:53.970253Z"
    },
    "papermill": {
     "duration": 0.207736,
     "end_time": "2022-01-29T09:22:53.638817",
     "exception": false,
     "start_time": "2022-01-29T09:22:53.431081",
     "status": "completed"
    },
    "tags": []
   },
   "outputs": [],
   "source": [
    "from sklearn.ensemble import RandomForestRegressor\n",
    "from sklearn.metrics import mean_absolute_error\n",
    "\n",
    "# Function for comparing different approaches\n",
    "def score_dataset(X_train, X_valid, y_train, y_valid):\n",
    "    model = RandomForestRegressor(n_estimators=100, random_state=0)\n",
    "    model.fit(X_train, y_train)\n",
    "    preds = model.predict(X_valid)\n",
    "    return mean_absolute_error(y_valid, preds)"
   ]
  },
  {
   "cell_type": "markdown",
   "id": "23c7f907",
   "metadata": {
    "papermill": {
     "duration": 0.030104,
     "end_time": "2022-01-29T09:22:53.698947",
     "exception": false,
     "start_time": "2022-01-29T09:22:53.668843",
     "status": "completed"
    },
    "tags": []
   },
   "source": [
    "# Step 2: Drop columns with missing values\n",
    "\n",
    "In this step, you'll preprocess the data in `X_train` and `X_valid` to remove columns with missing values.  Set the preprocessed DataFrames to `reduced_X_train` and `reduced_X_valid`, respectively.  "
   ]
  },
  {
   "cell_type": "code",
   "execution_count": 10,
   "id": "8c98f6c8",
   "metadata": {
    "execution": {
     "iopub.execute_input": "2022-01-29T09:22:53.766850Z",
     "iopub.status.busy": "2022-01-29T09:22:53.766179Z",
     "iopub.status.idle": "2022-01-29T09:22:53.797332Z",
     "shell.execute_reply": "2022-01-29T09:22:53.797967Z",
     "shell.execute_reply.started": "2022-01-29T08:44:19.883674Z"
    },
    "papermill": {
     "duration": 0.069011,
     "end_time": "2022-01-29T09:22:53.798126",
     "exception": false,
     "start_time": "2022-01-29T09:22:53.729115",
     "status": "completed"
    },
    "tags": []
   },
   "outputs": [
    {
     "data": {
      "application/javascript": [
       "parent.postMessage({\"jupyterEvent\": \"custom.exercise_interaction\", \"data\": {\"outcomeType\": 1, \"valueTowardsCompletion\": 1.0, \"interactionType\": 1, \"questionType\": 2, \"questionId\": \"2_DropMissing\", \"learnToolsVersion\": \"0.3.4\", \"failureMessage\": \"\", \"exceptionClass\": \"\", \"trace\": \"\"}}, \"*\")"
      ],
      "text/plain": [
       "<IPython.core.display.Javascript object>"
      ]
     },
     "metadata": {},
     "output_type": "display_data"
    },
    {
     "data": {
      "text/markdown": [
       "<span style=\"color:#33cc33\">Correct</span>"
      ],
      "text/plain": [
       "Correct"
      ]
     },
     "metadata": {},
     "output_type": "display_data"
    }
   ],
   "source": [
    "# Fill in the line below: get names of columns with missing values\n",
    "missing_col= [col for col in X_train.columns\n",
    "                     if X_train[col].isnull().any()] # Your code here\n",
    "\n",
    "# Fill in the lines below: drop columns in training and validation data\n",
    "reduced_X_train = X_train.drop(missing_col,axis =1)\n",
    "reduced_X_valid = X_valid.drop(missing_col,axis =1)\n",
    "\n",
    "# Check your answers\n",
    "step_2.check()"
   ]
  },
  {
   "cell_type": "code",
   "execution_count": 11,
   "id": "21f4bb2e",
   "metadata": {
    "execution": {
     "iopub.execute_input": "2022-01-29T09:22:53.863610Z",
     "iopub.status.busy": "2022-01-29T09:22:53.862912Z",
     "iopub.status.idle": "2022-01-29T09:22:53.865990Z",
     "shell.execute_reply": "2022-01-29T09:22:53.866543Z"
    },
    "papermill": {
     "duration": 0.037836,
     "end_time": "2022-01-29T09:22:53.866724",
     "exception": false,
     "start_time": "2022-01-29T09:22:53.828888",
     "status": "completed"
    },
    "tags": []
   },
   "outputs": [],
   "source": [
    "# Lines below will give you a hint or solution code\n",
    "#step_2.hint()\n",
    "#step_2.solution()"
   ]
  },
  {
   "cell_type": "markdown",
   "id": "85851257",
   "metadata": {
    "papermill": {
     "duration": 0.031038,
     "end_time": "2022-01-29T09:22:53.929829",
     "exception": false,
     "start_time": "2022-01-29T09:22:53.898791",
     "status": "completed"
    },
    "tags": []
   },
   "source": [
    "Run the next code cell without changes to obtain the MAE for this approach."
   ]
  },
  {
   "cell_type": "code",
   "execution_count": 12,
   "id": "0670c76c",
   "metadata": {
    "execution": {
     "iopub.execute_input": "2022-01-29T09:22:53.996740Z",
     "iopub.status.busy": "2022-01-29T09:22:53.996012Z",
     "iopub.status.idle": "2022-01-29T09:22:55.184439Z",
     "shell.execute_reply": "2022-01-29T09:22:55.185302Z",
     "shell.execute_reply.started": "2022-01-29T08:44:28.348094Z"
    },
    "papermill": {
     "duration": 1.223663,
     "end_time": "2022-01-29T09:22:55.185548",
     "exception": false,
     "start_time": "2022-01-29T09:22:53.961885",
     "status": "completed"
    },
    "tags": []
   },
   "outputs": [
    {
     "name": "stdout",
     "output_type": "stream",
     "text": [
      "MAE (Drop columns with missing values):\n",
      "17837.82570776256\n"
     ]
    }
   ],
   "source": [
    "print(\"MAE (Drop columns with missing values):\")\n",
    "print(score_dataset(reduced_X_train, reduced_X_valid, y_train, y_valid))"
   ]
  },
  {
   "cell_type": "markdown",
   "id": "5abcee20",
   "metadata": {
    "papermill": {
     "duration": 0.03178,
     "end_time": "2022-01-29T09:22:55.249506",
     "exception": false,
     "start_time": "2022-01-29T09:22:55.217726",
     "status": "completed"
    },
    "tags": []
   },
   "source": [
    "# Step 3: Imputation\n",
    "\n",
    "### Part A\n",
    "\n",
    "Use the next code cell to impute missing values with the mean value along each column.  Set the preprocessed DataFrames to `imputed_X_train` and `imputed_X_valid`.  Make sure that the column names match those in `X_train` and `X_valid`."
   ]
  },
  {
   "cell_type": "code",
   "execution_count": 13,
   "id": "6629cfd1",
   "metadata": {
    "execution": {
     "iopub.execute_input": "2022-01-29T09:22:55.316965Z",
     "iopub.status.busy": "2022-01-29T09:22:55.316343Z",
     "iopub.status.idle": "2022-01-29T09:22:55.347732Z",
     "shell.execute_reply": "2022-01-29T09:22:55.348258Z",
     "shell.execute_reply.started": "2022-01-29T08:58:01.713602Z"
    },
    "papermill": {
     "duration": 0.066487,
     "end_time": "2022-01-29T09:22:55.348432",
     "exception": false,
     "start_time": "2022-01-29T09:22:55.281945",
     "status": "completed"
    },
    "tags": []
   },
   "outputs": [
    {
     "data": {
      "application/javascript": [
       "parent.postMessage({\"jupyterEvent\": \"custom.exercise_interaction\", \"data\": {\"outcomeType\": 1, \"valueTowardsCompletion\": 1.0, \"interactionType\": 1, \"questionType\": 2, \"questionId\": \"3.1_ImputeCode\", \"learnToolsVersion\": \"0.3.4\", \"failureMessage\": \"\", \"exceptionClass\": \"\", \"trace\": \"\"}}, \"*\")"
      ],
      "text/plain": [
       "<IPython.core.display.Javascript object>"
      ]
     },
     "metadata": {},
     "output_type": "display_data"
    },
    {
     "data": {
      "text/markdown": [
       "<span style=\"color:#33cc33\">Correct</span>"
      ],
      "text/plain": [
       "Correct"
      ]
     },
     "metadata": {},
     "output_type": "display_data"
    }
   ],
   "source": [
    "from sklearn.impute import SimpleImputer\n",
    "\n",
    "# Fill in the lines below: imputation\n",
    "imputation=SimpleImputer() # Your code here\n",
    "imputed_X_train = pd.DataFrame(imputation.fit_transform(X_train))\n",
    "imputed_X_valid = pd.DataFrame(imputation.transform(X_valid))\n",
    "\n",
    "# Fill in the lines below: imputation removed column names; put them back\n",
    "imputed_X_train.columns = X_train.columns\n",
    "imputed_X_valid.columns = X_valid.columns\n",
    "\n",
    "# Check your answers\n",
    "step_3.a.check()"
   ]
  },
  {
   "cell_type": "code",
   "execution_count": 14,
   "id": "0aa45f86",
   "metadata": {
    "execution": {
     "iopub.execute_input": "2022-01-29T09:22:55.418118Z",
     "iopub.status.busy": "2022-01-29T09:22:55.417526Z",
     "iopub.status.idle": "2022-01-29T09:22:55.420176Z",
     "shell.execute_reply": "2022-01-29T09:22:55.420792Z"
    },
    "papermill": {
     "duration": 0.039173,
     "end_time": "2022-01-29T09:22:55.420938",
     "exception": false,
     "start_time": "2022-01-29T09:22:55.381765",
     "status": "completed"
    },
    "tags": []
   },
   "outputs": [],
   "source": [
    "# Lines below will give you a hint or solution code\n",
    "#step_3.a.hint()\n",
    "#step_3.a.solution()"
   ]
  },
  {
   "cell_type": "markdown",
   "id": "7e7529b7",
   "metadata": {
    "papermill": {
     "duration": 0.03289,
     "end_time": "2022-01-29T09:22:55.487665",
     "exception": false,
     "start_time": "2022-01-29T09:22:55.454775",
     "status": "completed"
    },
    "tags": []
   },
   "source": [
    "Run the next code cell without changes to obtain the MAE for this approach."
   ]
  },
  {
   "cell_type": "code",
   "execution_count": 15,
   "id": "697b0d3d",
   "metadata": {
    "execution": {
     "iopub.execute_input": "2022-01-29T09:22:55.556458Z",
     "iopub.status.busy": "2022-01-29T09:22:55.555879Z",
     "iopub.status.idle": "2022-01-29T09:22:56.878984Z",
     "shell.execute_reply": "2022-01-29T09:22:56.879743Z",
     "shell.execute_reply.started": "2022-01-29T08:58:09.046040Z"
    },
    "papermill": {
     "duration": 1.35892,
     "end_time": "2022-01-29T09:22:56.879979",
     "exception": false,
     "start_time": "2022-01-29T09:22:55.521059",
     "status": "completed"
    },
    "tags": []
   },
   "outputs": [
    {
     "name": "stdout",
     "output_type": "stream",
     "text": [
      "MAE (Imputation):\n",
      "18062.894611872147\n"
     ]
    }
   ],
   "source": [
    "print(\"MAE (Imputation):\")\n",
    "print(score_dataset(imputed_X_train, imputed_X_valid, y_train, y_valid))"
   ]
  },
  {
   "cell_type": "markdown",
   "id": "8ebded9e",
   "metadata": {
    "papermill": {
     "duration": 0.034435,
     "end_time": "2022-01-29T09:22:56.949612",
     "exception": false,
     "start_time": "2022-01-29T09:22:56.915177",
     "status": "completed"
    },
    "tags": []
   },
   "source": [
    "### Part B\n",
    "\n",
    "Compare the MAE from each approach.  Does anything surprise you about the results?  Why do you think one approach performed better than the other?"
   ]
  },
  {
   "cell_type": "code",
   "execution_count": 16,
   "id": "09cb6c9b",
   "metadata": {
    "execution": {
     "iopub.execute_input": "2022-01-29T09:22:57.020676Z",
     "iopub.status.busy": "2022-01-29T09:22:57.019997Z",
     "iopub.status.idle": "2022-01-29T09:22:57.026867Z",
     "shell.execute_reply": "2022-01-29T09:22:57.026379Z",
     "shell.execute_reply.started": "2022-01-29T08:58:22.014733Z"
    },
    "papermill": {
     "duration": 0.043516,
     "end_time": "2022-01-29T09:22:57.027004",
     "exception": false,
     "start_time": "2022-01-29T09:22:56.983488",
     "status": "completed"
    },
    "tags": []
   },
   "outputs": [
    {
     "data": {
      "application/javascript": [
       "parent.postMessage({\"jupyterEvent\": \"custom.exercise_interaction\", \"data\": {\"outcomeType\": 1, \"valueTowardsCompletion\": 1.0, \"interactionType\": 1, \"questionType\": 4, \"questionId\": \"3.2_ImputeThought\", \"learnToolsVersion\": \"0.3.4\", \"failureMessage\": \"\", \"exceptionClass\": \"\", \"trace\": \"\"}}, \"*\")"
      ],
      "text/plain": [
       "<IPython.core.display.Javascript object>"
      ]
     },
     "metadata": {},
     "output_type": "display_data"
    },
    {
     "data": {
      "text/markdown": [
       "<span style=\"color:#33cc33\">Correct:</span> \n",
       "\n",
       "Given that thre are so few missing values in the dataset, we'd expect imputation to perform better than dropping columns entirely.  However, we see that dropping columns performs slightly better!  While this can probably partially be attributed to noise in the dataset, another potential explanation is that the imputation method is not a great match to this dataset.  That is, maybe instead of filling in the mean value, it makes more sense to set every missing value to a value of 0, to fill in the most frequently encountered value, or to use some other method.  For instance, consider the `GarageYrBlt` column (which indicates the year that the garage was built).  It's likely that in some cases, a missing value could indicate a house that does not have a garage.  Does it make more sense to fill in the median value along each column in this case?  Or could we get better results by filling in the minimum value along each column?  It's not quite clear what's best in this case, but perhaps we can rule out some options immediately - for instance, setting missing values in this column to 0 is likely to yield horrible results!"
      ],
      "text/plain": [
       "Correct: \n",
       "\n",
       "Given that thre are so few missing values in the dataset, we'd expect imputation to perform better than dropping columns entirely.  However, we see that dropping columns performs slightly better!  While this can probably partially be attributed to noise in the dataset, another potential explanation is that the imputation method is not a great match to this dataset.  That is, maybe instead of filling in the mean value, it makes more sense to set every missing value to a value of 0, to fill in the most frequently encountered value, or to use some other method.  For instance, consider the `GarageYrBlt` column (which indicates the year that the garage was built).  It's likely that in some cases, a missing value could indicate a house that does not have a garage.  Does it make more sense to fill in the median value along each column in this case?  Or could we get better results by filling in the minimum value along each column?  It's not quite clear what's best in this case, but perhaps we can rule out some options immediately - for instance, setting missing values in this column to 0 is likely to yield horrible results!"
      ]
     },
     "metadata": {},
     "output_type": "display_data"
    }
   ],
   "source": [
    "# Check your answer (Run this code cell to receive credit!)\n",
    "step_3.b.check()"
   ]
  },
  {
   "cell_type": "code",
   "execution_count": 17,
   "id": "b09b2aa2",
   "metadata": {
    "execution": {
     "iopub.execute_input": "2022-01-29T09:22:57.101524Z",
     "iopub.status.busy": "2022-01-29T09:22:57.100864Z",
     "iopub.status.idle": "2022-01-29T09:22:57.103564Z",
     "shell.execute_reply": "2022-01-29T09:22:57.104102Z"
    },
    "papermill": {
     "duration": 0.041328,
     "end_time": "2022-01-29T09:22:57.104331",
     "exception": false,
     "start_time": "2022-01-29T09:22:57.063003",
     "status": "completed"
    },
    "tags": []
   },
   "outputs": [],
   "source": [
    "#step_3.b.hint()"
   ]
  },
  {
   "cell_type": "markdown",
   "id": "58a7efc2",
   "metadata": {
    "papermill": {
     "duration": 0.03524,
     "end_time": "2022-01-29T09:22:57.174602",
     "exception": false,
     "start_time": "2022-01-29T09:22:57.139362",
     "status": "completed"
    },
    "tags": []
   },
   "source": [
    "# Step 4: Generate test predictions\n",
    "\n",
    "In this final step, you'll use any approach of your choosing to deal with missing values.  Once you've preprocessed the training and validation features, you'll train and evaluate a random forest model.  Then, you'll preprocess the test data before generating predictions that can be submitted to the competition!\n",
    "\n",
    "### Part A\n",
    "\n",
    "Use the next code cell to preprocess the training and validation data.  Set the preprocessed DataFrames to `final_X_train` and `final_X_valid`.  **You can use any approach of your choosing here!**  in order for this step to be marked as correct, you need only ensure:\n",
    "- the preprocessed DataFrames have the same number of columns,\n",
    "- the preprocessed DataFrames have no missing values, \n",
    "- `final_X_train` and `y_train` have the same number of rows, and\n",
    "- `final_X_valid` and `y_valid` have the same number of rows."
   ]
  },
  {
   "cell_type": "code",
   "execution_count": 18,
   "id": "a1e9c096",
   "metadata": {
    "execution": {
     "iopub.execute_input": "2022-01-29T09:22:57.247194Z",
     "iopub.status.busy": "2022-01-29T09:22:57.246625Z",
     "iopub.status.idle": "2022-01-29T09:22:57.274122Z",
     "shell.execute_reply": "2022-01-29T09:22:57.274727Z",
     "shell.execute_reply.started": "2022-01-29T09:09:14.290599Z"
    },
    "papermill": {
     "duration": 0.065263,
     "end_time": "2022-01-29T09:22:57.274905",
     "exception": false,
     "start_time": "2022-01-29T09:22:57.209642",
     "status": "completed"
    },
    "tags": []
   },
   "outputs": [
    {
     "data": {
      "application/javascript": [
       "parent.postMessage({\"jupyterEvent\": \"custom.exercise_interaction\", \"data\": {\"outcomeType\": 1, \"valueTowardsCompletion\": 1.0, \"interactionType\": 1, \"questionType\": 2, \"questionId\": \"4.1_PredsCodeA\", \"learnToolsVersion\": \"0.3.4\", \"failureMessage\": \"\", \"exceptionClass\": \"\", \"trace\": \"\"}}, \"*\")"
      ],
      "text/plain": [
       "<IPython.core.display.Javascript object>"
      ]
     },
     "metadata": {},
     "output_type": "display_data"
    },
    {
     "data": {
      "text/markdown": [
       "<span style=\"color:#33cc33\">Correct</span>"
      ],
      "text/plain": [
       "Correct"
      ]
     },
     "metadata": {},
     "output_type": "display_data"
    }
   ],
   "source": [
    "# Preprocessed training and validation features\n",
    "final_imputer = SimpleImputer(strategy='median')\n",
    "final_X_train = pd.DataFrame(final_imputer.fit_transform(X_train))\n",
    "final_X_valid = pd.DataFrame(final_imputer.transform(X_valid))\n",
    "\n",
    "\n",
    "final_X_train.columns = X_train.columns\n",
    "final_X_valid.columns = X_valid.columns\n",
    "# Check your answers\n",
    "step_4.a.check()"
   ]
  },
  {
   "cell_type": "code",
   "execution_count": 19,
   "id": "700a9e7c",
   "metadata": {
    "execution": {
     "iopub.execute_input": "2022-01-29T09:22:57.350595Z",
     "iopub.status.busy": "2022-01-29T09:22:57.349996Z",
     "iopub.status.idle": "2022-01-29T09:22:57.352704Z",
     "shell.execute_reply": "2022-01-29T09:22:57.353246Z",
     "shell.execute_reply.started": "2022-01-29T09:09:29.707603Z"
    },
    "papermill": {
     "duration": 0.041933,
     "end_time": "2022-01-29T09:22:57.353448",
     "exception": false,
     "start_time": "2022-01-29T09:22:57.311515",
     "status": "completed"
    },
    "tags": []
   },
   "outputs": [],
   "source": [
    "# Lines below will give you a hint or solution code\n",
    "#step_4.a.hint()\n",
    "#step_4.a.solution()"
   ]
  },
  {
   "cell_type": "markdown",
   "id": "76f35250",
   "metadata": {
    "papermill": {
     "duration": 0.035332,
     "end_time": "2022-01-29T09:22:57.425363",
     "exception": false,
     "start_time": "2022-01-29T09:22:57.390031",
     "status": "completed"
    },
    "tags": []
   },
   "source": [
    "Run the next code cell to train and evaluate a random forest model.  (*Note that we don't use the `score_dataset()` function above, because we will soon use the trained model to generate test predictions!*)"
   ]
  },
  {
   "cell_type": "code",
   "execution_count": 20,
   "id": "43131e11",
   "metadata": {
    "execution": {
     "iopub.execute_input": "2022-01-29T09:22:57.502328Z",
     "iopub.status.busy": "2022-01-29T09:22:57.501608Z",
     "iopub.status.idle": "2022-01-29T09:22:58.808332Z",
     "shell.execute_reply": "2022-01-29T09:22:58.807552Z",
     "shell.execute_reply.started": "2022-01-29T09:09:34.374609Z"
    },
    "papermill": {
     "duration": 1.346231,
     "end_time": "2022-01-29T09:22:58.808653",
     "exception": false,
     "start_time": "2022-01-29T09:22:57.462422",
     "status": "completed"
    },
    "tags": []
   },
   "outputs": [
    {
     "name": "stdout",
     "output_type": "stream",
     "text": [
      "MAE (Your approach):\n",
      "17791.59899543379\n"
     ]
    }
   ],
   "source": [
    "# Define and fit model\n",
    "model = RandomForestRegressor(n_estimators=100, random_state=0)\n",
    "model.fit(final_X_train, y_train)\n",
    "\n",
    "# Get validation predictions and MAE\n",
    "preds_valid = model.predict(final_X_valid)\n",
    "print(\"MAE (Your approach):\")\n",
    "print(mean_absolute_error(y_valid, preds_valid))"
   ]
  },
  {
   "cell_type": "markdown",
   "id": "3250452f",
   "metadata": {
    "papermill": {
     "duration": 0.036297,
     "end_time": "2022-01-29T09:22:58.881959",
     "exception": false,
     "start_time": "2022-01-29T09:22:58.845662",
     "status": "completed"
    },
    "tags": []
   },
   "source": [
    "### Part B\n",
    "\n",
    "Use the next code cell to preprocess your test data.  Make sure that you use a method that agrees with how you preprocessed the training and validation data, and set the preprocessed test features to `final_X_test`.\n",
    "\n",
    "Then, use the preprocessed test features and the trained model to generate test predictions in `preds_test`.\n",
    "\n",
    "In order for this step to be marked correct, you need only ensure:\n",
    "- the preprocessed test DataFrame has no missing values, and\n",
    "- `final_X_test` has the same number of rows as `X_test`."
   ]
  },
  {
   "cell_type": "code",
   "execution_count": 21,
   "id": "c2c947e7",
   "metadata": {
    "execution": {
     "iopub.execute_input": "2022-01-29T09:22:58.960545Z",
     "iopub.status.busy": "2022-01-29T09:22:58.959866Z",
     "iopub.status.idle": "2022-01-29T09:22:59.006730Z",
     "shell.execute_reply": "2022-01-29T09:22:59.007325Z",
     "shell.execute_reply.started": "2022-01-29T09:21:54.984192Z"
    },
    "papermill": {
     "duration": 0.088076,
     "end_time": "2022-01-29T09:22:59.007500",
     "exception": false,
     "start_time": "2022-01-29T09:22:58.919424",
     "status": "completed"
    },
    "tags": []
   },
   "outputs": [
    {
     "data": {
      "application/javascript": [
       "parent.postMessage({\"jupyterEvent\": \"custom.exercise_interaction\", \"data\": {\"outcomeType\": 1, \"valueTowardsCompletion\": 1.0, \"interactionType\": 1, \"questionType\": 2, \"questionId\": \"4.2_PredsCodeB\", \"learnToolsVersion\": \"0.3.4\", \"failureMessage\": \"\", \"exceptionClass\": \"\", \"trace\": \"\"}}, \"*\")"
      ],
      "text/plain": [
       "<IPython.core.display.Javascript object>"
      ]
     },
     "metadata": {},
     "output_type": "display_data"
    },
    {
     "data": {
      "text/markdown": [
       "<span style=\"color:#33cc33\">Correct</span>"
      ],
      "text/plain": [
       "Correct"
      ]
     },
     "metadata": {},
     "output_type": "display_data"
    }
   ],
   "source": [
    "# Fill in the line below: preprocess test data\n",
    "final_X_test = pd.DataFrame(final_imputer.transform(X_test))\n",
    "\n",
    "# Fill in the line below: get test predictions\n",
    "preds_test = model.predict(final_X_test)\n",
    "\n",
    "# Check your answers\n",
    "step_4.b.check()"
   ]
  },
  {
   "cell_type": "code",
   "execution_count": 22,
   "id": "214281fa",
   "metadata": {
    "execution": {
     "iopub.execute_input": "2022-01-29T09:22:59.087408Z",
     "iopub.status.busy": "2022-01-29T09:22:59.086817Z",
     "iopub.status.idle": "2022-01-29T09:22:59.089719Z",
     "shell.execute_reply": "2022-01-29T09:22:59.090303Z",
     "shell.execute_reply.started": "2022-01-29T09:22:04.342646Z"
    },
    "papermill": {
     "duration": 0.044757,
     "end_time": "2022-01-29T09:22:59.090460",
     "exception": false,
     "start_time": "2022-01-29T09:22:59.045703",
     "status": "completed"
    },
    "tags": []
   },
   "outputs": [],
   "source": [
    "# Lines below will give you a hint or solution code\n",
    "#step_4.b.hint()\n",
    "#step_4.b.solution()"
   ]
  },
  {
   "cell_type": "markdown",
   "id": "56ec72e0",
   "metadata": {
    "papermill": {
     "duration": 0.037177,
     "end_time": "2022-01-29T09:22:59.165130",
     "exception": false,
     "start_time": "2022-01-29T09:22:59.127953",
     "status": "completed"
    },
    "tags": []
   },
   "source": [
    "Run the next code cell without changes to save your results to a CSV file that can be submitted directly to the competition."
   ]
  },
  {
   "cell_type": "code",
   "execution_count": 23,
   "id": "c609d10f",
   "metadata": {
    "execution": {
     "iopub.execute_input": "2022-01-29T09:22:59.242905Z",
     "iopub.status.busy": "2022-01-29T09:22:59.242302Z",
     "iopub.status.idle": "2022-01-29T09:22:59.252963Z",
     "shell.execute_reply": "2022-01-29T09:22:59.253519Z",
     "shell.execute_reply.started": "2022-01-29T09:22:08.487878Z"
    },
    "papermill": {
     "duration": 0.051085,
     "end_time": "2022-01-29T09:22:59.253683",
     "exception": false,
     "start_time": "2022-01-29T09:22:59.202598",
     "status": "completed"
    },
    "tags": []
   },
   "outputs": [],
   "source": [
    "# Save test predictions to file\n",
    "output = pd.DataFrame({'Id': X_test.index,\n",
    "                       'SalePrice': preds_test})\n",
    "output.to_csv('submission.csv', index=False)"
   ]
  },
  {
   "cell_type": "markdown",
   "id": "aa7d86b8",
   "metadata": {
    "papermill": {
     "duration": 0.036547,
     "end_time": "2022-01-29T09:22:59.327672",
     "exception": false,
     "start_time": "2022-01-29T09:22:59.291125",
     "status": "completed"
    },
    "tags": []
   },
   "source": [
    "# Submit your results\n",
    "\n",
    "Once you have successfully completed Step 4, you're ready to submit your results to the leaderboard!  (_You also learned how to do this in the previous exercise.  If you need a reminder of how to do this, please use the instructions below._)  \n",
    "\n",
    "First, you'll need to join the competition if you haven't already.  So open a new window by clicking on [this link](https://www.kaggle.com/c/home-data-for-ml-course).  Then click on the **Join Competition** button.\n",
    "\n",
    "![join competition image](https://i.imgur.com/wLmFtH3.png)\n",
    "\n",
    "Next, follow the instructions below:\n",
    "1. Begin by clicking on the **Save Version** button in the top right corner of the window.  This will generate a pop-up window.  \n",
    "2. Ensure that the **Save and Run All** option is selected, and then click on the **Save** button.\n",
    "3. This generates a window in the bottom left corner of the notebook.  After it has finished running, click on the number to the right of the **Save Version** button.  This pulls up a list of versions on the right of the screen.  Click on the ellipsis **(...)** to the right of the most recent version, and select **Open in Viewer**.  This brings you into view mode of the same page. You will need to scroll down to get back to these instructions.\n",
    "4. Click on the **Output** tab on the right of the screen.  Then, click on the file you would like to submit, and click on the **Submit** button to submit your results to the leaderboard.\n",
    "\n",
    "You have now successfully submitted to the competition!\n",
    "\n",
    "If you want to keep working to improve your performance, select the **Edit** button in the top right of the screen. Then you can change your code and repeat the process. There's a lot of room to improve, and you will climb up the leaderboard as you work.\n",
    "\n",
    "\n",
    "# Keep going\n",
    "\n",
    "Move on to learn what **[categorical variables](https://www.kaggle.com/alexisbcook/categorical-variables)** are, along with how to incorporate them into your machine learning models.  Categorical variables are very common in real-world data, but you'll get an error if you try to plug them into your models without processing them first!"
   ]
  },
  {
   "cell_type": "markdown",
   "id": "a3882929",
   "metadata": {
    "papermill": {
     "duration": 0.036821,
     "end_time": "2022-01-29T09:22:59.400892",
     "exception": false,
     "start_time": "2022-01-29T09:22:59.364071",
     "status": "completed"
    },
    "tags": []
   },
   "source": [
    "---\n",
    "\n",
    "\n",
    "\n",
    "\n",
    "*Have questions or comments? Visit the [course discussion forum](https://www.kaggle.com/learn/intermediate-machine-learning/discussion) to chat with other learners.*"
   ]
  }
 ],
 "metadata": {
  "kernelspec": {
   "display_name": "Python 3",
   "language": "python",
   "name": "python3"
  },
  "language_info": {
   "codemirror_mode": {
    "name": "ipython",
    "version": 3
   },
   "file_extension": ".py",
   "mimetype": "text/x-python",
   "name": "python",
   "nbconvert_exporter": "python",
   "pygments_lexer": "ipython3",
   "version": "3.7.12"
  },
  "papermill": {
   "default_parameters": {},
   "duration": 18.197224,
   "end_time": "2022-01-29T09:23:00.047751",
   "environment_variables": {},
   "exception": null,
   "input_path": "__notebook__.ipynb",
   "output_path": "__notebook__.ipynb",
   "parameters": {},
   "start_time": "2022-01-29T09:22:41.850527",
   "version": "2.3.3"
  }
 },
 "nbformat": 4,
 "nbformat_minor": 5
}
