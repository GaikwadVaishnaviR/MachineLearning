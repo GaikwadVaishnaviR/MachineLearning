{
 "cells": [
  {
   "cell_type": "markdown",
   "id": "7df9c848",
   "metadata": {
    "papermill": {
     "duration": 0.012197,
     "end_time": "2022-01-20T15:11:22.162412",
     "exception": false,
     "start_time": "2022-01-20T15:11:22.150215",
     "status": "completed"
    },
    "tags": []
   },
   "source": [
    "**This notebook is an exercise in the [Introduction to Machine Learning](https://www.kaggle.com/learn/intro-to-machine-learning) course.  You can reference the tutorial at [this link](https://www.kaggle.com/dansbecker/underfitting-and-overfitting).**\n",
    "\n",
    "---\n"
   ]
  },
  {
   "cell_type": "code",
   "execution_count": null,
   "id": "57bdc76a",
   "metadata": {
    "papermill": {
     "duration": 0.010521,
     "end_time": "2022-01-20T15:11:22.184386",
     "exception": false,
     "start_time": "2022-01-20T15:11:22.173865",
     "status": "completed"
    },
    "tags": []
   },
   "outputs": [],
   "source": []
  },
  {
   "cell_type": "markdown",
   "id": "8b91ec56",
   "metadata": {
    "papermill": {
     "duration": 0.010386,
     "end_time": "2022-01-20T15:11:22.205452",
     "exception": false,
     "start_time": "2022-01-20T15:11:22.195066",
     "status": "completed"
    },
    "tags": []
   },
   "source": [
    "## Recap\n",
    "You've built your first model, and now it's time to optimize the size of the tree to make better predictions. Run this cell to set up your coding environment where the previous step left off."
   ]
  },
  {
   "cell_type": "code",
   "execution_count": 1,
   "id": "a6e6422a",
   "metadata": {
    "execution": {
     "iopub.execute_input": "2022-01-20T15:11:22.240760Z",
     "iopub.status.busy": "2022-01-20T15:11:22.240064Z",
     "iopub.status.idle": "2022-01-20T15:11:23.644305Z",
     "shell.execute_reply": "2022-01-20T15:11:23.643174Z",
     "shell.execute_reply.started": "2022-01-20T14:57:47.542208Z"
    },
    "papermill": {
     "duration": 1.428311,
     "end_time": "2022-01-20T15:11:23.644542",
     "exception": false,
     "start_time": "2022-01-20T15:11:22.216231",
     "status": "completed"
    },
    "tags": []
   },
   "outputs": [
    {
     "name": "stdout",
     "output_type": "stream",
     "text": [
      "Validation MAE: 29,653\n",
      "\n",
      "Setup complete\n"
     ]
    }
   ],
   "source": [
    "# Code you have previously used to load data\n",
    "import pandas as pd\n",
    "from sklearn.metrics import mean_absolute_error\n",
    "from sklearn.model_selection import train_test_split\n",
    "from sklearn.tree import DecisionTreeRegressor\n",
    "\n",
    "\n",
    "# Path of the file to read\n",
    "iowa_file_path = '../input/home-data-for-ml-course/train.csv'\n",
    "\n",
    "home_data = pd.read_csv(iowa_file_path)\n",
    "# Create target object and call it y\n",
    "y = home_data.SalePrice\n",
    "# Create X\n",
    "features = ['LotArea', 'YearBuilt', '1stFlrSF', '2ndFlrSF', 'FullBath', 'BedroomAbvGr', 'TotRmsAbvGrd']\n",
    "X = home_data[features]\n",
    "\n",
    "# Split into validation and training data\n",
    "train_X, val_X, train_y, val_y = train_test_split(X, y, random_state=1)\n",
    "\n",
    "# Specify Model\n",
    "iowa_model = DecisionTreeRegressor(random_state=1)\n",
    "# Fit Model\n",
    "iowa_model.fit(train_X, train_y)\n",
    "\n",
    "# Make validation predictions and calculate mean absolute error\n",
    "val_predictions = iowa_model.predict(val_X)\n",
    "val_mae = mean_absolute_error(val_predictions, val_y)\n",
    "print(\"Validation MAE: {:,.0f}\".format(val_mae))\n",
    "\n",
    "# Set up code checking\n",
    "from learntools.core import binder\n",
    "binder.bind(globals())\n",
    "from learntools.machine_learning.ex5 import *\n",
    "print(\"\\nSetup complete\")"
   ]
  },
  {
   "cell_type": "markdown",
   "id": "52b38bb1",
   "metadata": {
    "papermill": {
     "duration": 0.010687,
     "end_time": "2022-01-20T15:11:23.667033",
     "exception": false,
     "start_time": "2022-01-20T15:11:23.656346",
     "status": "completed"
    },
    "tags": []
   },
   "source": [
    "# Exercises\n",
    "You could write the function `get_mae` yourself. For now, we'll supply it. This is the same function you read about in the previous lesson. Just run the cell below."
   ]
  },
  {
   "cell_type": "code",
   "execution_count": 2,
   "id": "3494c88c",
   "metadata": {
    "execution": {
     "iopub.execute_input": "2022-01-20T15:11:23.692826Z",
     "iopub.status.busy": "2022-01-20T15:11:23.692034Z",
     "iopub.status.idle": "2022-01-20T15:11:23.698222Z",
     "shell.execute_reply": "2022-01-20T15:11:23.697565Z",
     "shell.execute_reply.started": "2022-01-20T14:57:53.046918Z"
    },
    "papermill": {
     "duration": 0.02029,
     "end_time": "2022-01-20T15:11:23.698358",
     "exception": false,
     "start_time": "2022-01-20T15:11:23.678068",
     "status": "completed"
    },
    "tags": []
   },
   "outputs": [],
   "source": [
    "def get_mae(max_leaf_nodes, train_X, val_X, train_y, val_y):\n",
    "    model = DecisionTreeRegressor(max_leaf_nodes=max_leaf_nodes, random_state=0)\n",
    "    model.fit(train_X, train_y)\n",
    "    preds_val = model.predict(val_X)\n",
    "    mae = mean_absolute_error(val_y, preds_val)\n",
    "    return(mae)"
   ]
  },
  {
   "cell_type": "markdown",
   "id": "72121f84",
   "metadata": {
    "papermill": {
     "duration": 0.011069,
     "end_time": "2022-01-20T15:11:23.720760",
     "exception": false,
     "start_time": "2022-01-20T15:11:23.709691",
     "status": "completed"
    },
    "tags": []
   },
   "source": [
    "## Step 1: Compare Different Tree Sizes\n",
    "Write a loop that tries the following values for *max_leaf_nodes* from a set of possible values.\n",
    "\n",
    "Call the *get_mae* function on each value of max_leaf_nodes. Store the output in some way that allows you to select the value of `max_leaf_nodes` that gives the most accurate model on your data."
   ]
  },
  {
   "cell_type": "code",
   "execution_count": 3,
   "id": "338f22ba",
   "metadata": {
    "execution": {
     "iopub.execute_input": "2022-01-20T15:11:23.752960Z",
     "iopub.status.busy": "2022-01-20T15:11:23.752236Z",
     "iopub.status.idle": "2022-01-20T15:11:23.802204Z",
     "shell.execute_reply": "2022-01-20T15:11:23.801670Z",
     "shell.execute_reply.started": "2022-01-20T15:08:38.389238Z"
    },
    "papermill": {
     "duration": 0.06974,
     "end_time": "2022-01-20T15:11:23.802339",
     "exception": false,
     "start_time": "2022-01-20T15:11:23.732599",
     "status": "completed"
    },
    "tags": []
   },
   "outputs": [
    {
     "name": "stdout",
     "output_type": "stream",
     "text": [
      "35044.51299744237\n",
      "29016.41319191076\n",
      "27405.930473214907\n",
      "27282.50803885739\n",
      "27893.822225701646\n",
      "29454.18598068598\n"
     ]
    },
    {
     "data": {
      "application/javascript": [
       "parent.postMessage({\"jupyterEvent\": \"custom.exercise_interaction\", \"data\": {\"outcomeType\": 1, \"valueTowardsCompletion\": 0.5, \"interactionType\": 1, \"questionType\": 1, \"questionId\": \"1_BestTreeSize\", \"learnToolsVersion\": \"0.3.4\", \"failureMessage\": \"\", \"exceptionClass\": \"\", \"trace\": \"\"}}, \"*\")"
      ],
      "text/plain": [
       "<IPython.core.display.Javascript object>"
      ]
     },
     "metadata": {},
     "output_type": "display_data"
    },
    {
     "data": {
      "text/markdown": [
       "<span style=\"color:#33cc33\">Correct</span>"
      ],
      "text/plain": [
       "Correct"
      ]
     },
     "metadata": {},
     "output_type": "display_data"
    }
   ],
   "source": [
    "candidate_max_leaf_nodes = [5, 25, 50, 100, 250, 500]\n",
    "# Write loop to find the ideal tree size from candidate_max_leaf_nodes\n",
    "for i in candidate_max_leaf_nodes:\n",
    "    print(get_mae(i,train_X,val_X,train_y,val_y))\n",
    "_\n",
    "\n",
    "# Store the best value of max_leaf_nodes (it will be either 5, 25, 50, 100, 250 or 500)\n",
    "best_tree_size = 100\n",
    "\n",
    "# Check your answer\n",
    "step_1.check()"
   ]
  },
  {
   "cell_type": "code",
   "execution_count": 4,
   "id": "37cc05ca",
   "metadata": {
    "execution": {
     "iopub.execute_input": "2022-01-20T15:11:23.831007Z",
     "iopub.status.busy": "2022-01-20T15:11:23.830340Z",
     "iopub.status.idle": "2022-01-20T15:11:23.878943Z",
     "shell.execute_reply": "2022-01-20T15:11:23.878272Z",
     "shell.execute_reply.started": "2022-01-20T15:02:15.982590Z"
    },
    "papermill": {
     "duration": 0.064313,
     "end_time": "2022-01-20T15:11:23.879145",
     "exception": false,
     "start_time": "2022-01-20T15:11:23.814832",
     "status": "completed"
    },
    "tags": []
   },
   "outputs": [
    {
     "name": "stdout",
     "output_type": "stream",
     "text": [
      "35044.51299744237\n",
      "29016.41319191076\n",
      "27405.930473214907\n",
      "27282.50803885739\n",
      "27893.822225701646\n",
      "29454.18598068598\n"
     ]
    }
   ],
   "source": [
    "candidate_max_leaf_nodes = [5, 25, 50, 100, 250, 500]\n",
    "# Write loop to find the ideal tree size from candidate_max_leaf_nodes\n",
    "for i in candidate_max_leaf_nodes:\n",
    "    print(get_mae(i,train_X,val_X,train_y,val_y))"
   ]
  },
  {
   "cell_type": "code",
   "execution_count": 5,
   "id": "a270624f",
   "metadata": {
    "execution": {
     "iopub.execute_input": "2022-01-20T15:11:23.910794Z",
     "iopub.status.busy": "2022-01-20T15:11:23.910056Z",
     "iopub.status.idle": "2022-01-20T15:11:23.913097Z",
     "shell.execute_reply": "2022-01-20T15:11:23.913663Z"
    },
    "papermill": {
     "duration": 0.020644,
     "end_time": "2022-01-20T15:11:23.913833",
     "exception": false,
     "start_time": "2022-01-20T15:11:23.893189",
     "status": "completed"
    },
    "tags": []
   },
   "outputs": [],
   "source": [
    "# The lines below will show you a hint or the solution.\n",
    "# step_1.hint() \n",
    "# step_1.solution()"
   ]
  },
  {
   "cell_type": "markdown",
   "id": "217c541a",
   "metadata": {
    "papermill": {
     "duration": 0.012794,
     "end_time": "2022-01-20T15:11:23.940071",
     "exception": false,
     "start_time": "2022-01-20T15:11:23.927277",
     "status": "completed"
    },
    "tags": []
   },
   "source": [
    "## Step 2: Fit Model Using All Data\n",
    "You know the best tree size. If you were going to deploy this model in practice, you would make it even more accurate by using all of the data and keeping that tree size.  That is, you don't need to hold out the validation data now that you've made all your modeling decisions."
   ]
  },
  {
   "cell_type": "code",
   "execution_count": 6,
   "id": "f45b6f04",
   "metadata": {
    "execution": {
     "iopub.execute_input": "2022-01-20T15:11:23.970397Z",
     "iopub.status.busy": "2022-01-20T15:11:23.969719Z",
     "iopub.status.idle": "2022-01-20T15:11:23.985916Z",
     "shell.execute_reply": "2022-01-20T15:11:23.986567Z",
     "shell.execute_reply.started": "2022-01-20T15:10:43.801033Z"
    },
    "papermill": {
     "duration": 0.033411,
     "end_time": "2022-01-20T15:11:23.986740",
     "exception": false,
     "start_time": "2022-01-20T15:11:23.953329",
     "status": "completed"
    },
    "tags": []
   },
   "outputs": [
    {
     "data": {
      "application/javascript": [
       "parent.postMessage({\"jupyterEvent\": \"custom.exercise_interaction\", \"data\": {\"outcomeType\": 1, \"valueTowardsCompletion\": 0.5, \"interactionType\": 1, \"questionType\": 2, \"questionId\": \"2_FitModelWithAllData\", \"learnToolsVersion\": \"0.3.4\", \"failureMessage\": \"\", \"exceptionClass\": \"\", \"trace\": \"\"}}, \"*\")"
      ],
      "text/plain": [
       "<IPython.core.display.Javascript object>"
      ]
     },
     "metadata": {},
     "output_type": "display_data"
    },
    {
     "data": {
      "text/markdown": [
       "<span style=\"color:#33cc33\">Correct</span>"
      ],
      "text/plain": [
       "Correct"
      ]
     },
     "metadata": {},
     "output_type": "display_data"
    }
   ],
   "source": [
    "# Fill in argument to make optimal size and uncomment\n",
    "final_model = DecisionTreeRegressor(max_leaf_nodes=100,random_state=0)\n",
    "\n",
    "# fit the final model and uncomment the next two lines\n",
    "final_model.fit(X,y)\n",
    "\n",
    "# Check your answer\n",
    "step_2.check()"
   ]
  },
  {
   "cell_type": "code",
   "execution_count": 7,
   "id": "6cd58df2",
   "metadata": {
    "execution": {
     "iopub.execute_input": "2022-01-20T15:11:24.017756Z",
     "iopub.status.busy": "2022-01-20T15:11:24.017091Z",
     "iopub.status.idle": "2022-01-20T15:11:24.023897Z",
     "shell.execute_reply": "2022-01-20T15:11:24.024498Z",
     "shell.execute_reply.started": "2022-01-20T15:10:07.255177Z"
    },
    "papermill": {
     "duration": 0.024178,
     "end_time": "2022-01-20T15:11:24.024670",
     "exception": false,
     "start_time": "2022-01-20T15:11:24.000492",
     "status": "completed"
    },
    "tags": []
   },
   "outputs": [
    {
     "data": {
      "application/javascript": [
       "parent.postMessage({\"jupyterEvent\": \"custom.exercise_interaction\", \"data\": {\"interactionType\": 3, \"questionType\": 2, \"questionId\": \"2_FitModelWithAllData\", \"learnToolsVersion\": \"0.3.4\", \"valueTowardsCompletion\": 0.0, \"failureMessage\": \"\", \"exceptionClass\": \"\", \"trace\": \"\", \"outcomeType\": 4}}, \"*\")"
      ],
      "text/plain": [
       "<IPython.core.display.Javascript object>"
      ]
     },
     "metadata": {},
     "output_type": "display_data"
    },
    {
     "data": {
      "text/markdown": [
       "<span style=\"color:#33cc99\">Solution:</span> \n",
       "```python\n",
       "# Fit the model with best_tree_size. Fill in argument to make optimal size\n",
       "final_model = DecisionTreeRegressor(max_leaf_nodes=best_tree_size, random_state=1)\n",
       "\n",
       "# fit the final model\n",
       "final_model.fit(X, y)\n",
       "```"
      ],
      "text/plain": [
       "Solution: \n",
       "```python\n",
       "# Fit the model with best_tree_size. Fill in argument to make optimal size\n",
       "final_model = DecisionTreeRegressor(max_leaf_nodes=best_tree_size, random_state=1)\n",
       "\n",
       "# fit the final model\n",
       "final_model.fit(X, y)\n",
       "```"
      ]
     },
     "metadata": {},
     "output_type": "display_data"
    }
   ],
   "source": [
    "# step_2.hint()\n",
    "step_2.solution()"
   ]
  },
  {
   "cell_type": "markdown",
   "id": "e25d898c",
   "metadata": {
    "papermill": {
     "duration": 0.014987,
     "end_time": "2022-01-20T15:11:24.054762",
     "exception": false,
     "start_time": "2022-01-20T15:11:24.039775",
     "status": "completed"
    },
    "tags": []
   },
   "source": [
    "You've tuned this model and improved your results. But we are still using Decision Tree models, which are not very sophisticated by modern machine learning standards. In the next step you will learn to use Random Forests to improve your models even more.\n",
    "\n",
    "# Keep Going\n",
    "\n",
    "You are ready for **[Random Forests](https://www.kaggle.com/dansbecker/random-forests).**\n"
   ]
  },
  {
   "cell_type": "markdown",
   "id": "a864a342",
   "metadata": {
    "papermill": {
     "duration": 0.014412,
     "end_time": "2022-01-20T15:11:24.083945",
     "exception": false,
     "start_time": "2022-01-20T15:11:24.069533",
     "status": "completed"
    },
    "tags": []
   },
   "source": [
    "---\n",
    "\n",
    "\n",
    "\n",
    "\n",
    "*Have questions or comments? Visit the [course discussion forum](https://www.kaggle.com/learn/intro-to-machine-learning/discussion) to chat with other learners.*"
   ]
  }
 ],
 "metadata": {
  "kernelspec": {
   "display_name": "Python 3",
   "language": "python",
   "name": "python3"
  },
  "language_info": {
   "codemirror_mode": {
    "name": "ipython",
    "version": 3
   },
   "file_extension": ".py",
   "mimetype": "text/x-python",
   "name": "python",
   "nbconvert_exporter": "python",
   "pygments_lexer": "ipython3",
   "version": "3.7.12"
  },
  "papermill": {
   "default_parameters": {},
   "duration": 13.31326,
   "end_time": "2022-01-20T15:11:25.111659",
   "environment_variables": {},
   "exception": null,
   "input_path": "__notebook__.ipynb",
   "output_path": "__notebook__.ipynb",
   "parameters": {},
   "start_time": "2022-01-20T15:11:11.798399",
   "version": "2.3.3"
  }
 },
 "nbformat": 4,
 "nbformat_minor": 5
}
